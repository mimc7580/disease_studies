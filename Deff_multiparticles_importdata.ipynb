{
 "cells": [
  {
   "cell_type": "code",
   "execution_count": 1,
   "metadata": {
    "collapsed": true
   },
   "outputs": [],
   "source": [
    "import numpy as np\n",
    "import matplotlib.pyplot as plt\n",
    "import pandas as pd"
   ]
  },
  {
   "cell_type": "code",
   "execution_count": null,
   "metadata": {
    "collapsed": true
   },
   "outputs": [],
   "source": [
    "trajectory_data = pd.read_csv(\"gopher_S1_R3_V1_10NPs_traj.csv\")\n",
    "pd.options.display.max_columns = 20\n",
    "pd.options.display.max_rows = 10\n",
    "pd.options.display.notebook_repr_html = True\n",
    "x = np.asarray(trajectory_data[trajectory_data[\"Trajectory\"] == 1][\"x\"])\n",
    "y = np.asarray(trajectory_data[trajectory_data[\"Trajectory\"] == 1][\"y\"])\n",
    "t = np.asarray(trajectory_data[trajectory_data[\"Trajectory\"] == 1][\"Frame\"])\n",
    "#print(x)\n",
    "#print(y)\n",
    "#print(t)"
   ]
  },
  {
   "cell_type": "code",
   "execution_count": null,
   "metadata": {
    "collapsed": true
   },
   "outputs": [],
   "source": [
    "# Multiple Particles\n",
    "def Deff_calc(x,y,t):\n",
    "    #row_ct = x.shape[0]\n",
    "    #col_ct = x.shape[1]\n",
    "    #N = x.shape[0]\n",
    "    N = 1\n",
    "    #SD = np.zeros((row_ct,col_ct-1))\n",
    "    SD = np.zeros(len(x)-1)\n",
    "    #MSD = np.zeros((row_ct,col_ct-1))\n",
    "    MSD = np.zeros(len(x)-1)\n",
    "    #D_eff = np.zeros((row_ct,col_ct-1))\n",
    "    D_eff = np.zeros(len(x)-1)\n",
    "    q = 1\n",
    "    while q <= N:\n",
    "        i = 1\n",
    "        while i <= len(x)-1:\n",
    "            SD[i-1] = (abs(x[0]-x[i]) ** 2 + abs(y[0]-y[i]) ** 2)\n",
    "            total_SD = 0\n",
    "            p = i\n",
    "            while p >= 1:\n",
    "                total_SD = total_SD + SD[p-1]\n",
    "                p -= 1\n",
    "            MSD[i-1] = total_SD\n",
    "            D_eff[i-1] = MSD[i-1]/4/t[i]\n",
    "            i += 1\n",
    "        q += 1\n",
    "    #print(SD)\n",
    "    #print(MSD)\n",
    "    #print(D_eff)\n",
    "    plt.figure(1)\n",
    "    plt.subplot(211)\n",
    "    plt.xlabel(\"time\")\n",
    "    plt.ylabel(\"MSD\")\n",
    "    plt.title(\"MSD vs. time\")\n",
    "    plt.plot(t[1:len(t)],MSD)\n",
    "    plt.tight_layout()\n",
    "    #plt.show()\n",
    "    \n",
    "    plt.subplot(212)\n",
    "    plt.xlabel(\"time\")\n",
    "    plt.ylabel(\"D_eff\")\n",
    "    plt.title(\"D_eff vs. time\")\n",
    "    plt.plot(t[1:len(t)],D_eff)\n",
    "    plt.tight_layout()\n",
    "    plt.show()\n",
    "Deff_calc(x,y,t)\n",
    "#Deff_calc(np.array([[0,-3.00,-0.5,-3.00,2.00,-2.50,2.50],[3,-2.5,6,-2,-4,-1,2],[-2,-4,-6,-1,3,1,0]]), np.array([[0,2.50,3.50,-4.0,0.00,-0.50,2.50],[2,5,4,6,-2,-1,0],[-2,-5,-7,-1,1,-3,-1]]), np.array([0,1,2,3,4,5,6]))"
   ]
  }
 ],
 "metadata": {
  "kernelspec": {
   "display_name": "Python [default]",
   "language": "python",
   "name": "python3"
  },
  "language_info": {
   "codemirror_mode": {
    "name": "ipython",
    "version": 3
   },
   "file_extension": ".py",
   "mimetype": "text/x-python",
   "name": "python",
   "nbconvert_exporter": "python",
   "pygments_lexer": "ipython3",
   "version": "3.5.2"
  }
 },
 "nbformat": 4,
 "nbformat_minor": 1
}
